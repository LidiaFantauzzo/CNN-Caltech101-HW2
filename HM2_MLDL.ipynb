{
  "nbformat": 4,
  "nbformat_minor": 0,
  "metadata": {
    "colab": {
      "name": "HM2-MLDL.ipynb",
      "provenance": [],
      "collapsed_sections": []
    },
    "kernelspec": {
      "name": "python3",
      "display_name": "Python 3"
    },
    "accelerator": "GPU"
  },
  "cells": [
    {
      "cell_type": "markdown",
      "metadata": {
        "id": "fo942LMOdlh4"
      },
      "source": [
        "**Import libraries**"
      ]
    },
    {
      "cell_type": "code",
      "metadata": {
        "id": "DokFOdD1dJEl"
      },
      "source": [
        "from torchvision.datasets import VisionDataset\n",
        "import os\n",
        "import os.path\n",
        "import sys\n",
        "import logging\n",
        "import numpy as np\n",
        "import matplotlib.pyplot as plt\n",
        "import matplotlib.gridspec as gridspec\n",
        "import torch\n",
        "from sklearn.utils import shuffle\n",
        "import torch.nn as nn\n",
        "import torch.optim as optim\n",
        "from torch.utils.data import Subset, DataLoader\n",
        "from torch.backends import cudnn\n",
        "import torchvision\n",
        "from torchvision import transforms\n",
        "from torchvision.models import alexnet, resnet18, resnet34\n",
        "from PIL import Image\n",
        "from tqdm import tqdm"
      ],
      "execution_count": null,
      "outputs": []
    },
    {
      "cell_type": "markdown",
      "metadata": {
        "id": "OIDLJuIXK_vh"
      },
      "source": [
        "**Set Arguments**"
      ]
    },
    {
      "cell_type": "code",
      "metadata": {
        "id": "d5PkYfqfK_SA"
      },
      "source": [
        "DEVICE = 'cuda' # 'cuda' or 'cpu'\n",
        "\n",
        "NUM_CLASSES = 101    # 101 + 1: There is am extra Background class that should be removed \n",
        "\n",
        "BATCH_SIZE = 256    # Higher batch sizes allows for larger learning rates. An empirical heuristic suggests that, when changing\n",
        "                     # the batch size, learning rate should change by the same factor to have comparable results\n",
        "\n",
        "LR = 0.01          # The initial Learning Rate\n",
        "MOMENTUM = 0.9       # Hyperparameter for SGD, keep this at 0.9 when using SGD\n",
        "WEIGHT_DECAY = 5e-5 # Regularization, you can keep this at the default\n",
        "NUM_EPOCHS = 30      # Total number of training epochs (iterations over dataset)\n",
        "\n",
        "STEP_SIZE = 10       # How many epochs before decreasing learning rate (if using a step-down policy)\n",
        "GAMMA = 0.5         # Multiplicative factor for learning rate step-down\n",
        "\n",
        "LOG_FREQUENCY = 10"
      ],
      "execution_count": null,
      "outputs": []
    },
    {
      "cell_type": "markdown",
      "metadata": {
        "id": "9gwii0TBHvzh"
      },
      "source": [
        "**Define Data Preprocessing**"
      ]
    },
    {
      "cell_type": "code",
      "metadata": {
        "id": "QUDdw4j2H0Mc"
      },
      "source": [
        "# Define transforms for training phase\n",
        "train_transform = transforms.Compose([transforms.Resize(256),      # Resizes short size of the PIL image to 256\n",
        "                                      transforms.CenterCrop(224),  # Crops a central square patch of the image\n",
        "                                                                   # 224 because torchvision's AlexNet needs a 224x224 input!\n",
        "                                                                   # Remember this when applying different transformations, otherwise you get an error\n",
        "                                      #transforms.RandomCrop(size=150),\n",
        "                                      #transforms.RandomHorizontalFlip(0.5),\n",
        "                                      #transforms.ColorJitter(brightness=0.3, contrast=0.5, saturation=0.3),\n",
        "                                      #transforms.RandomRotation(degrees=45, center=(0,0)),\n",
        "                                      #transforms.RandomRotation(degrees=45),\n",
        "                                      #transforms.RandomGrayscale(0.5),\n",
        "                                      #transforms.RandomErasing(p=0.5, scale=(0.02, 0.33)),\n",
        "                                      transforms.ToTensor(), # Turn PIL Image to torch.Tensor\n",
        "                                      transforms.Normalize((0.485, 0.456, 0.406), (0.229, 0.224, 0.225))#Normalizes tensor for pretrained net on ImageNet\n",
        "                                      #transforms.Normalize((0.5, 0.5, 0.5), (0.5, 0.5, 0.5)) # Normalizes tensor with mean and standard deviation\n",
        "                                      \n",
        "                                      \n",
        "])\n",
        "# Define transforms for the evaluation phase\n",
        "eval_transform = transforms.Compose([transforms.Resize(256),\n",
        "                                      transforms.CenterCrop(224),\n",
        "                                      transforms.ToTensor(),\n",
        "                                      transforms.Normalize((0.485, 0.456, 0.406), (0.229, 0.224, 0.225))#Normalizes tensor for pretrained net on ImageNet\n",
        "                                      #transforms.Normalize((0.5, 0.5, 0.5), (0.5, 0.5, 0.5))                                    \n",
        "])"
      ],
      "execution_count": null,
      "outputs": []
    },
    {
      "cell_type": "markdown",
      "metadata": {
        "id": "2qYIHPzYLY7i"
      },
      "source": [
        "**Prepare Dataset**"
      ]
    },
    {
      "cell_type": "code",
      "metadata": {
        "id": "_8AyJAzD1SAa"
      },
      "source": [
        "# Clone github repository with data\n",
        "if not os.path.isdir('./Caltech101'):\n",
        "  !git clone https://github.com/MachineLearning2020/Homework2-Caltech101.git\n",
        "  !mv 'Homework2-Caltech101' 'Caltech101'\n",
        "\n",
        "DATA_DIR = 'Caltech101/101_ObjectCategories'\n",
        "#from Caltech101.caltech_dataset import Caltech"
      ],
      "execution_count": null,
      "outputs": []
    },
    {
      "cell_type": "code",
      "metadata": {
        "id": "gJaonXfUh-B2"
      },
      "source": [
        "def pil_loader(path):\n",
        "    # open path as file to avoid ResourceWarning (https://github.com/python-pillow/Pillow/issues/835)\n",
        "    with open(path, 'rb') as f:\n",
        "        img = Image.open(f)\n",
        "        return img.convert('RGB')\n",
        "\n",
        "\n",
        "class Caltech(VisionDataset):\n",
        "    def __init__(self, root, split='train', transform=None, target_transform=None):\n",
        "        super(Caltech, self).__init__(root, transform=transform, target_transform=target_transform)\n",
        "        \n",
        "        self.split = split+\".txt\" # This defines the split you are going to use\n",
        "                                         \n",
        "        self.images=[]\n",
        "        classes=os.listdir(root)\n",
        "        classes.remove('BACKGROUND_Google')\n",
        "        classes.sort()\n",
        "        #create dictionary\n",
        "        n=0\n",
        "        self.Dict={}\n",
        "        for s in classes:\n",
        "          self.Dict[s]=n\n",
        "          n=n+1\n",
        "\n",
        "        file = open(\"./Caltech101/\"+self.split)\n",
        "        for l in file:\n",
        "            line=l.split(\"/\")\n",
        "            classe=line[0]\n",
        "            if classe!='BACKGROUND_Google':\n",
        "              name=line[1].replace(\"\\n\",\"\")\n",
        "              self.images.append(classe+\"/\"+name)\n",
        "        file.close()\n",
        "\n",
        "    def __getitem__(self, index):\n",
        "      string=self.images[index].split(\"/\")\n",
        "      classe=string[0]\n",
        "      image, label = pil_loader(\"./Caltech101/101_ObjectCategories/\"+self.images[index]), self.Dict[classe]\n",
        "      # Applies preprocessing when accessing the image\n",
        "      if self.transform is not None:\n",
        "        image = self.transform(image)\n",
        " \n",
        "        return image, label\n",
        "\n",
        "    def __len__(self):\n",
        "        length = len(self.images) # Provide a way to get the length (number of elements) of the dataset\n",
        "        return length"
      ],
      "execution_count": null,
      "outputs": []
    },
    {
      "cell_type": "code",
      "metadata": {
        "id": "QfVq_uDHLbsR",
        "colab": {
          "base_uri": "https://localhost:8080/",
          "height": 68
        },
        "outputId": "31225300-a016-460d-8618-87dacafa1f7b"
      },
      "source": [
        "# Prepare Pytorch train/test Datasets\n",
        "\n",
        "train_dataset_pre = Caltech(DATA_DIR, split='train',  transform=train_transform)\n",
        "test_dataset = Caltech(DATA_DIR, split='test', transform=eval_transform)\n",
        "\n",
        "#della stessa dimensinoe e visto che le classi sono in ordine anche stratificato\n",
        "train_indexes = [x for x in range(len(train_dataset_pre)) if not(x % 2) == 0]\n",
        "val_indexes = [x for x in range(len(train_dataset_pre)) if x % 2 == 0]\n",
        "\n",
        "train_dataset = Subset(train_dataset_pre, train_indexes)\n",
        "val_dataset = Subset(train_dataset_pre, val_indexes)\n",
        "\n",
        "# Check dataset sizes\n",
        "print('Train Dataset: {}'.format(len(train_dataset)))\n",
        "print('Valid Dataset: {}'.format(len(val_dataset)))\n",
        "print('Test Dataset: {}'.format(len(test_dataset)))"
      ],
      "execution_count": null,
      "outputs": [
        {
          "output_type": "stream",
          "text": [
            "Train Dataset: 2892\n",
            "Valid Dataset: 2892\n",
            "Test Dataset: 2893\n"
          ],
          "name": "stdout"
        }
      ]
    },
    {
      "cell_type": "code",
      "metadata": {
        "id": "2keqs8LVPD01"
      },
      "source": [
        "train_dataset_pre"
      ],
      "execution_count": null,
      "outputs": []
    },
    {
      "cell_type": "markdown",
      "metadata": {
        "id": "FYEDQ7Z21ldN"
      },
      "source": [
        "**Prepare Dataloaders**"
      ]
    },
    {
      "cell_type": "code",
      "metadata": {
        "id": "VriRw8SI1nle"
      },
      "source": [
        "# Dataloaders iterate over pytorch datasets and transparently provide useful functions (e.g. parallelization and shuffling)\n",
        "train_dataloader = DataLoader(train_dataset, batch_size=BATCH_SIZE, shuffle=True, num_workers=4, drop_last=True)\n",
        "val_dataloader = DataLoader(val_dataset, batch_size=BATCH_SIZE, shuffle=True, num_workers=4)\n",
        "\n",
        "test_dataloader = DataLoader(test_dataset, batch_size=BATCH_SIZE, shuffle=False, num_workers=4)"
      ],
      "execution_count": null,
      "outputs": []
    },
    {
      "cell_type": "markdown",
      "metadata": {
        "id": "gbZ1t5Qs2z4j"
      },
      "source": [
        "**Prepare Network**"
      ]
    },
    {
      "cell_type": "code",
      "metadata": {
        "id": "exHUjtXa22DN",
        "cellView": "code"
      },
      "source": [
        "#net=resnet18(pretrained=True)\n",
        "#net=resnet34(pretrained=True)\n",
        "#num_ft = net.fc.in_features\n",
        "#net.fc = nn.Linear(num_ft, NUM_CLASSES)\n",
        "\n",
        "#net = alexnet() # Loading AlexNet model\n",
        "net=alexnet(pretrained=True) #Load pretrined AlexNet on ImageNet\n",
        "\n",
        "# AlexNet has 1000 output neurons, corresponding to the 1000 ImageNet's classes\n",
        "# We need 101 outputs for Caltech-101\n",
        "net.classifier[6] = nn.Linear(4096, NUM_CLASSES) # nn.Linear in pytorch is a fully connected layer\n",
        "                                                 # The convolutional layer is nn.Conv2d\n",
        "\n",
        "# We just changed the last layer of AlexNet with a new fully connected layer with 101 outputs\n",
        "\n",
        "######### freeze all the conv and train the fc\n",
        "for layer in net.features.parameters():\n",
        "   layer.requires_grad=False\n",
        "################################################\n",
        "################freeze all the fc \n",
        "#for layer in net.classifier.parameters():\n",
        "#  layer.requires_grad=False\n",
        "###############################################\n",
        "\n",
        "#Note that you can filter the parameters so that only the parameters that requires gradient are passed to the optimizer.\n",
        "for layer in net.parameters():\n",
        "    print(layer.requires_grad)\n",
        "#ft_list = list(net.features)\n",
        "#cl_list = list(net.classifier)\n",
        "#cl_list"
      ],
      "execution_count": null,
      "outputs": []
    },
    {
      "cell_type": "markdown",
      "metadata": {
        "id": "KEyL3H_R4qCf"
      },
      "source": [
        "**Prepare Training**"
      ]
    },
    {
      "cell_type": "code",
      "metadata": {
        "id": "9sjq00G94tSc"
      },
      "source": [
        "# Define loss function\n",
        "criterion = nn.CrossEntropyLoss() # for classification, we use Cross Entropy\n",
        "\n",
        "# Choose parameters to optimize\n",
        "parameters_to_optimize = net.parameters() # In this case we optimize over all the parameters of AlexNet\n",
        "\n",
        "# Define optimizer\n",
        "optimizer = optim.SGD(parameters_to_optimize, lr=LR, momentum=MOMENTUM, weight_decay=WEIGHT_DECAY)\n",
        "\n",
        "# Define scheduler\n",
        "scheduler = optim.lr_scheduler.StepLR(optimizer, step_size=STEP_SIZE, gamma=GAMMA)"
      ],
      "execution_count": null,
      "outputs": []
    },
    {
      "cell_type": "markdown",
      "metadata": {
        "id": "AxYUli9d9uYQ"
      },
      "source": [
        "**Train**"
      ]
    },
    {
      "cell_type": "code",
      "metadata": {
        "id": "ZcoQ5fD49yT_"
      },
      "source": [
        "# By default, everything is loaded to cpu\n",
        "net = net.to(DEVICE) # this will bring the network to GPU if DEVICE is cuda\n",
        "cudnn.benchmark # Calling this optimizes runtime\n",
        "#######################\n",
        "#keep the accuracy result \n",
        "myacc=[]\n",
        "#keep the loss\n",
        "myloss=[]\n",
        "#keep the LR\n",
        "mylr=[]\n",
        "#######################\n",
        "best_net= net\n",
        "max_acc = 0\n",
        "current_step = 0\n",
        "\n",
        "# Start iterating over the epochs\n",
        "for epoch in range(NUM_EPOCHS):\n",
        "  print('Starting epoch {}/{}, LR = {}'.format(epoch+1, NUM_EPOCHS, scheduler.get_last_lr()))\n",
        "  mylr.append(scheduler.get_last_lr())\n",
        "  net.train(True)\n",
        "  # Iterate over the dataset\n",
        "  for images, labels in train_dataloader:\n",
        "    # Bring data over the device of choice\n",
        "    images = images.to(DEVICE)\n",
        "    labels = labels.to(DEVICE)\n",
        "    #shuffle each epoch so the net goes through the images always in a different order\n",
        "    images, labels = shuffle(images, labels)\n",
        "    net.train() # Sets module in training mode\n",
        "\n",
        "    optimizer.zero_grad() # Zero-ing the gradients\n",
        "\n",
        "    # Forward pass to the network\n",
        "    outputs = net(images)\n",
        "\n",
        "    # Compute loss based on output and ground truth\n",
        "    loss = criterion(outputs, labels)\n",
        "    \n",
        "    # Log loss\n",
        "    if current_step % LOG_FREQUENCY == 0:\n",
        "      print('Step {}, Loss {}'.format(current_step, loss.item()))\n",
        "    if current_step % 11 ==0:\n",
        "      myloss.append(loss.item())\n",
        "    # Compute gradients for each layer and update weights\n",
        "    loss.backward()  # backward pass: computes gradients\n",
        "    optimizer.step() # update weights based on accumulated gradients\n",
        "    current_step += 1\n",
        "\n",
        "  #validation\n",
        "  if epoch % 5 == 0:\n",
        "     net.train(False)\n",
        "     running_corrects = 0\n",
        "     for images, labels in tqdm(val_dataloader):\n",
        "       images = images.to(DEVICE)\n",
        "       labels = labels.to(DEVICE)\n",
        "       # Forward Pass\n",
        "       outputs = net(images)\n",
        "       # Get predictions\n",
        "       _, preds = torch.max(outputs.data, 1)\n",
        "       # Update Corrects\n",
        "       running_corrects += torch.sum(preds == labels.data).data.item()\n",
        "       # Calculate Accuracy\n",
        "     accuracy = running_corrects / float(len(val_dataset))\n",
        "     myacc.append(accuracy)\n",
        "      ##best net\n",
        "     if(accuracy >= max_acc):\n",
        "      max_acc = accuracy\n",
        "      best_model = net\n",
        "     print('Validation Accuracy: {}'.format(accuracy) + 'at epoch: '+str(epoch+1))\n",
        "  \n",
        "  \n",
        "  # Step the scheduler\n",
        "  scheduler.step() "
      ],
      "execution_count": null,
      "outputs": []
    },
    {
      "cell_type": "code",
      "metadata": {
        "id": "PJFgY5deGWk9",
        "colab": {
          "base_uri": "https://localhost:8080/",
          "height": 590
        },
        "outputId": "79b924d0-06ca-44b6-ad3f-8682457f3507"
      },
      "source": [
        "#### trend of accuracy and loss for different value of LR, epochs, gamma and step_size\n",
        "#accuracy trend\n",
        "\n",
        "e=range(NUM_EPOCHS)\n",
        "ea=np.arange(1,NUM_EPOCHS,5)\n",
        "fig, ax = plt.subplots()\n",
        "ax.plot(ea, myacc, '--ro', linewidth=1, label='Accuracy')\n",
        "ax.plot(e, mylr, '--b', label='Learning Rate')\n",
        "legend = ax.legend(shadow=True)\n",
        "\n",
        "\n",
        "plt.xlabel('Epochs') \n",
        "plt.ylabel('Accuracy and LR')  \n",
        "#plt.plot(, linewidth=1) \n",
        "plt.title('Accuracy and LR through the epochs') \n",
        "plt.show()\n",
        "\n",
        "fig, ax = plt.subplots()\n",
        "ax.plot(e, myloss, '--ko', linewidth=1, label='Loss')\n",
        "legend = ax.legend(shadow=True)\n",
        "plt.title('Loss through the epochs') \n",
        "plt.xlabel('Epochs') \n",
        "plt.ylabel('Loss') \n",
        "plt.show()\n",
        "print(myacc)"
      ],
      "execution_count": null,
      "outputs": [
        {
          "output_type": "display_data",
          "data": {
            "image/png": "[encoded data removed]",
            "text/plain": [
              "<Figure size 432x288 with 1 Axes>"
            ]
          },
          "metadata": {
            "tags": [],
            "needs_background": "light"
          }
        },
        {
          "output_type": "display_data",
          "data": {
            "image/png": "[encoded data removed]",
            "text/plain": [
              "<Figure size 432x288 with 1 Axes>"
            ]
          },
          "metadata": {
            "tags": [],
            "needs_background": "light"
          }
        },
        {
          "output_type": "stream",
          "text": [
            "[0.6853388658367912, 0.8367911479944675, 0.8454356846473029, 0.8526970954356846, 0.8492392807745505, 0.8492392807745505]\n"
          ],
          "name": "stdout"
        }
      ]
    },
    {
      "cell_type": "markdown",
      "metadata": {
        "id": "jxekmR745ySe"
      },
      "source": [
        "**Test**"
      ]
    },
    {
      "cell_type": "code",
      "metadata": {
        "id": "fSHcUqLB5yWO",
        "colab": {
          "base_uri": "https://localhost:8080/",
          "height": 51
        },
        "outputId": "6391748a-9e6f-4b4d-e54a-bcf86bc4522e"
      },
      "source": [
        "net=best_net\n",
        "net = net.to(DEVICE) # this will bring the network to GPU if DEVICE is cuda\n",
        "net.train(False) # Set Network to evaluation mode\n",
        "\n",
        "running_corrects = 0\n",
        "for images, labels in tqdm(test_dataloader):\n",
        "  images = images.to(DEVICE)\n",
        "  labels = labels.to(DEVICE)\n",
        "\n",
        "  # Forward Pass\n",
        "  outputs = net(images)\n",
        "\n",
        "  # Get predictions\n",
        "  _, preds = torch.max(outputs.data, 1)\n",
        "\n",
        "  # Update Corrects\n",
        "  running_corrects += torch.sum(preds == labels.data).data.item()\n",
        "\n",
        "# Calculate Accuracy\n",
        "accuracy = running_corrects / float(len(test_dataset))\n",
        "\n",
        "print('Test Accuracy: {}'.format(accuracy))"
      ],
      "execution_count": null,
      "outputs": [
        {
          "output_type": "stream",
          "text": [
            "100%|██████████| 12/12 [00:10<00:00,  1.10it/s]"
          ],
          "name": "stderr"
        },
        {
          "output_type": "stream",
          "text": [
            "Test Accuracy: 0.8613895610093328\n"
          ],
          "name": "stdout"
        },
        {
          "output_type": "stream",
          "text": [
            "\n"
          ],
          "name": "stderr"
        }
      ]
    }
  ]
}